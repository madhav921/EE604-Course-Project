{
 "cells": [
  {
   "cell_type": "code",
   "execution_count": 11,
   "id": "c463335f",
   "metadata": {},
   "outputs": [],
   "source": [
    "from tensorflow.keras.layers import Input, Lambda, Dense, Flatten\n",
    "from tensorflow.keras.models import Model\n",
    "from tensorflow.keras.applications.inception_v3 import InceptionV3\n",
    "# from tensorflow.keras.applications.resnet50 import ResNet50\n",
    "#from keras.applications.vgg16 import VGG16\n",
    "from tensorflow.keras.applications.inception_v3 import preprocess_input\n",
    "from tensorflow.keras.preprocessing import image\n",
    "from tensorflow.keras.preprocessing.image import ImageDataGenerator,load_img\n",
    "from tensorflow.keras.models import Sequential\n",
    "import numpy as np\n",
    "from glob import glob\n",
    "import matplotlib.pyplot as plt\n",
    "import os, cv2\n",
    "from tensorflow import keras\n",
    "from tensorflow.keras import layers\n",
    "import numpy as np\n",
    "from numpy import asarray\n",
    "import matplotlib.pyplot as plt\n",
    "import pandas as pd\n",
    "from PIL import Image\n",
    "import tensorflow as tf"
   ]
  },
  {
   "cell_type": "code",
   "execution_count": 21,
   "id": "213c04ac",
   "metadata": {},
   "outputs": [],
   "source": [
    "from ipynb.fs.full.train import *"
   ]
  },
  {
   "cell_type": "code",
   "execution_count": 22,
   "id": "4c5a543c",
   "metadata": {},
   "outputs": [
    {
     "data": {
      "text/plain": [
       "(900, 224, 224, 3)"
      ]
     },
     "execution_count": 22,
     "metadata": {},
     "output_type": "execute_result"
    }
   ],
   "source": [
    "test_input = []\n",
    "for i in range(17801,18701):\n",
    "    img = image.load_img(\"/Users/sanidhyasingh/Desktop/gangajal/datathonindoml-2022/test/\" + str(i) + \".tif\", target_size = (224,224))\n",
    "    x=image.img_to_array(img)\n",
    "    x/=255\n",
    "    test_input.append(x)\n",
    "test_input = np.array(test_input)\n",
    "test_input.shape"
   ]
  },
  {
   "cell_type": "code",
   "execution_count": 23,
   "id": "be140a0e",
   "metadata": {},
   "outputs": [],
   "source": [
    "y_pred = model.predict(test_input)"
   ]
  },
  {
   "cell_type": "code",
   "execution_count": 16,
   "id": "e6e6bc2b",
   "metadata": {},
   "outputs": [
    {
     "data": {
      "text/plain": [
       "array([10, 12, 10, 14,  9, 14,  2,  2,  8, 10, 14,  1,  4,  4,  4, 10,  1,\n",
       "        1,  6,  4,  6, 15,  5, 15,  9,  8, 13,  1, 14,  1, 15,  6, 14, 13,\n",
       "       15, 12,  1, 14, 12,  1,  4,  6,  4,  9,  8, 13,  9,  8, 12,  8,  1,\n",
       "        0, 13,  1,  1, 15,  1,  9,  1,  1,  8,  5, 15,  4,  2, 14,  1, 13,\n",
       "       14, 10,  1,  4,  2,  4, 15,  0, 15,  7,  7,  1, 15,  7,  5,  5, 13,\n",
       "        4,  1, 11,  1,  2,  4,  7, 13,  7,  9, 12,  1, 13,  6,  4, 12,  1,\n",
       "        5,  4,  1,  4, 11, 15,  1,  7,  5,  0,  5,  6,  8, 10, 13,  6,  1,\n",
       "        1,  2,  4,  0, 15,  7, 13,  0, 15, 10,  4, 14,  1,  4, 14,  5,  9,\n",
       "        4,  1,  2,  5, 12, 15,  8,  9, 14, 15, 15,  1,  7,  6,  1,  1,  5,\n",
       "       13,  5,  2, 13,  7, 11,  6,  9,  1,  8,  4, 13,  4, 10, 10,  5, 15,\n",
       "       13,  2, 10,  1, 10,  0, 13,  8,  0, 14, 15, 13,  9,  8,  9,  9,  2,\n",
       "       14,  2,  8, 15, 11, 15,  8, 15,  6,  1, 15,  5, 13,  1,  5,  1,  7,\n",
       "        1,  5, 13,  1, 10, 15,  1, 12, 15, 13, 11, 10,  5,  9,  1,  6,  1,\n",
       "       12,  8, 14,  4,  0,  4, 10, 13,  1,  7,  7,  4,  5,  8, 12, 13,  4,\n",
       "       11,  4, 15,  9,  6,  7, 13,  2,  4,  1, 13, 10, 15, 14, 11,  1,  5,\n",
       "       14, 15,  7, 15,  6,  6,  2,  7, 12, 15, 13,  2,  5,  6, 15,  4,  8,\n",
       "        6,  7, 14, 13, 15,  8,  2,  6, 14,  5,  9,  9, 13, 15,  8,  2,  2,\n",
       "       15,  1, 13, 12, 12,  7,  4, 13,  1, 10,  1,  1,  8,  0,  2,  4, 14,\n",
       "        4,  1, 13, 15,  4,  0,  2, 13,  2, 13, 12, 14,  1, 10,  1, 15, 12,\n",
       "        9, 15, 11, 11,  5,  5,  4, 15,  1, 13,  5,  1,  5,  6,  2,  2, 10,\n",
       "        4,  1, 10, 15,  1, 10,  2,  2,  5,  6,  9, 15,  5,  6, 14,  4, 11,\n",
       "        7,  1, 14,  6,  7,  0,  4,  9,  1, 13,  2,  9, 13,  7, 15, 13,  8,\n",
       "       11, 13, 15, 15, 13, 13, 14,  2, 13,  9, 10,  2,  8,  4,  4,  1,  7,\n",
       "       11,  6, 10,  7, 13,  2,  1, 13,  9,  1,  8,  4,  4,  4,  2,  0,  1,\n",
       "        9,  6,  1,  0,  5,  1,  8,  1,  6,  1,  9, 13,  0, 12,  0,  7, 10,\n",
       "        4,  4, 15,  8, 15,  9,  8,  4, 15,  4,  8,  9, 12,  2,  4, 12, 13,\n",
       "        7,  4,  1,  4,  9, 13,  0,  2,  2,  1,  7, 13, 15,  0, 10,  3,  8,\n",
       "        2, 10,  9,  2,  0, 14, 13, 10, 10,  1, 10, 15,  5,  4, 15, 10, 10,\n",
       "       15,  2, 13,  1,  8,  1,  5, 10,  7, 15,  4,  6, 12,  4,  4, 10, 15,\n",
       "        4,  0,  5,  8,  9, 13,  1, 13, 15, 11, 14,  0,  4, 14,  2,  6,  5,\n",
       "       12,  4, 14,  5, 14,  7,  8,  1,  4,  9, 14, 10,  4, 15,  0,  5,  2,\n",
       "        7,  0,  9,  4,  2, 15,  5,  5,  4,  6,  5,  1,  2, 15, 14, 15,  1,\n",
       "       15, 14, 14, 13,  0, 15,  1, 14, 14,  5, 10, 14,  1, 15,  9,  0,  5,\n",
       "       13,  0,  4, 11,  1,  6,  7, 12,  5, 10, 10,  6,  1,  9,  5,  4, 10,\n",
       "        6,  4, 14,  5,  1, 10, 14,  8,  2, 15, 13,  7,  0,  8,  5, 15, 15,\n",
       "       12, 12,  4,  1, 10, 14,  1,  5,  5,  8,  0, 10,  6, 14,  2, 10,  6,\n",
       "       10,  5,  2,  6, 12,  5,  1,  1, 14,  4, 15,  6,  7,  6,  0,  2,  9,\n",
       "        5, 15,  1, 13,  6,  6,  4,  4,  2,  8,  8,  1,  9, 11, 13,  6, 15,\n",
       "       15, 10,  4,  8,  5,  7,  7,  5,  0, 12,  9, 14, 12, 12,  9, 13,  9,\n",
       "        8,  5,  6,  4,  4, 13,  8,  0, 15,  4,  5, 13,  1,  1,  5,  0,  6,\n",
       "        6, 15,  9,  7,  1,  7, 14,  9, 10,  7, 15,  5, 15,  9,  5,  6,  1,\n",
       "        7,  1, 10, 13, 14,  7, 11, 10,  4,  1,  9,  4, 11, 13, 15, 15, 14,\n",
       "        9,  9,  1,  2,  1, 13, 12,  5, 12, 15,  6,  2,  0, 11,  7, 11,  5,\n",
       "        1,  5, 10, 15,  4,  9,  4, 13, 13,  8, 13,  0,  5,  7,  7,  8,  0,\n",
       "        7, 12,  7, 15,  1, 13, 12,  2, 15, 14,  5,  8,  4,  9,  0,  2, 13,\n",
       "       12, 12,  1, 11, 10,  5, 13,  1,  2,  5,  5,  0, 13,  4, 12, 13, 13,\n",
       "        7,  0, 10, 14,  6, 15,  6,  8,  4, 15, 13,  1,  6, 13,  8,  5,  8,\n",
       "       15,  6, 10, 13,  5, 13,  8,  8, 14, 15,  9,  2,  1, 15,  0,  9,  8,\n",
       "        5, 15, 15, 15, 15,  4,  2,  6, 11, 15,  8,  1,  0,  4, 11, 13,  1,\n",
       "       15,  1, 14,  7, 13,  0, 10, 14, 12,  9, 15, 14,  6,  5, 11,  5, 13,\n",
       "        8,  4,  5,  4,  4,  2, 12,  6,  2, 12,  2,  6, 11, 12,  6,  2,  0,\n",
       "       14,  2, 14, 14,  4, 15, 13,  0,  0,  9,  1,  1,  8,  2,  1, 12,  7,\n",
       "        4,  4,  4,  8, 15, 10,  0, 13, 12,  4, 14, 13,  2,  5,  5, 10])"
      ]
     },
     "execution_count": 16,
     "metadata": {},
     "output_type": "execute_result"
    }
   ],
   "source": [
    "import numpy as np\n",
    "y_pred = np.argmax(y_pred, axis=1)\n",
    "y_pred"
   ]
  },
  {
   "cell_type": "code",
   "execution_count": null,
   "id": "948e86d2",
   "metadata": {},
   "outputs": [],
   "source": [
    "ids = []\n",
    "for i in range(17801,18701):\n",
    "    ids.append(i)"
   ]
  },
  {
   "cell_type": "code",
   "execution_count": 17,
   "id": "46eadd7b",
   "metadata": {},
   "outputs": [],
   "source": [
    "import pandas as pd"
   ]
  },
  {
   "cell_type": "code",
   "execution_count": 19,
   "id": "fda8fa8b",
   "metadata": {},
   "outputs": [],
   "source": [
    "df.groupby('label').count()"
   ]
  },
  {
   "cell_type": "code",
   "execution_count": null,
   "id": "27c6e8e7",
   "metadata": {},
   "outputs": [],
   "source": [
    "class_names = []\n",
    "for i in range(16):\n",
    "    class_names.append(str(i))"
   ]
  },
  {
   "cell_type": "code",
   "execution_count": null,
   "id": "45243aa9",
   "metadata": {},
   "outputs": [],
   "source": [
    "for i in class_names:\n",
    "    os.makedirs(os.path.join('/Users/sanidhyasingh/Desktop/gangajal/datathonindoml-2022/result',i))"
   ]
  },
  {
   "cell_type": "code",
   "execution_count": null,
   "id": "7bf4de3e",
   "metadata": {},
   "outputs": [],
   "source": [
    "import shutil\n",
    "for i in class_names: \n",
    "    for c in list(df[df['label']== int(i)]['id']): \n",
    "        get_image = os.path.join('/Users/sanidhyasingh/Desktop/gangajal/datathonindoml-2022/test', str(c)+ '.tif')\n",
    "        if not os.path.exists('/Users/sanidhyasingh/Desktop/gangajal/datathonindoml-2022/result'+ str(c) + i):\n",
    "             move_image = shutil.copy(get_image,'/Users/sanidhyasingh/Desktop/gangajal/datathonindoml-2022/result/'+ i)\n",
    "                "
   ]
  },
  {
   "cell_type": "code",
   "execution_count": null,
   "id": "f577a366",
   "metadata": {},
   "outputs": [],
   "source": [
    "data1 = {'id' : ids, 'label' : labels}"
   ]
  },
  {
   "cell_type": "code",
   "execution_count": null,
   "id": "7935df16",
   "metadata": {},
   "outputs": [],
   "source": [
    "for i in range(900):\n",
    "    if data1['label'][i] == 1:\n",
    "        data1['label'][i] = 7\n",
    "    elif data1['label'][i] == 2:\n",
    "        data1['label'][i] = 5\n",
    "    elif data1['label'][i] == 9:\n",
    "        data1['label'][i] = 3\n",
    "    elif data1['label'][i] == 3:\n",
    "        data1['label'][i] = 11\n",
    "    elif data1['label'][i] == 4:\n",
    "        data1['label'][i] = 6\n",
    "    elif data1['label'][i] == 10:\n",
    "        data1['label'][i] = 4\n",
    "    elif data1['label'][i] == 5:\n",
    "        data1['label'][i] = 12\n",
    "    elif data1['label'][i] == 6:\n",
    "        data1['label'][i] = 14\n",
    "    elif data1['label'][i] == 11:\n",
    "        data1['label'][i] = 1\n",
    "    elif data1['label'][i] == 7:\n",
    "        data1['label'][i] = 15\n",
    "    elif data1['label'][i] == 8:\n",
    "        data1['label'][i] = 2\n",
    "    elif data1['label'][i] == 12:\n",
    "        data1['label'][i] = 13\n",
    "    elif data1['label'][i] == 13:\n",
    "        data1['label'][i] = 10\n",
    "    elif data1['label'][i] == 14:\n",
    "        data1['label'][i] = 8\n",
    "    elif data1['label'][i] == 15:\n",
    "        data1['label'][i] = 9"
   ]
  },
  {
   "cell_type": "code",
   "execution_count": null,
   "id": "dcb3d351",
   "metadata": {},
   "outputs": [],
   "source": [
    "df1 = pd.DataFrame(data1)"
   ]
  },
  {
   "cell_type": "code",
   "execution_count": null,
   "id": "e4f0bf3a",
   "metadata": {},
   "outputs": [],
   "source": [
    "df1.head(100)"
   ]
  },
  {
   "cell_type": "code",
   "execution_count": null,
   "id": "9b9bb150",
   "metadata": {},
   "outputs": [],
   "source": [
    "df1.sort_values(\"id\")"
   ]
  },
  {
   "cell_type": "code",
   "execution_count": null,
   "id": "be54f6d0",
   "metadata": {},
   "outputs": [],
   "source": [
    "df1.to_csv('predicted_labels.csv', index = False)"
   ]
  }
 ],
 "metadata": {
  "kernelspec": {
   "display_name": "Python 3.9 (tensorflow)",
   "language": "python",
   "name": "tensorflow"
  },
  "language_info": {
   "codemirror_mode": {
    "name": "ipython",
    "version": 3
   },
   "file_extension": ".py",
   "mimetype": "text/x-python",
   "name": "python",
   "nbconvert_exporter": "python",
   "pygments_lexer": "ipython3",
   "version": "3.9.13"
  }
 },
 "nbformat": 4,
 "nbformat_minor": 5
}
