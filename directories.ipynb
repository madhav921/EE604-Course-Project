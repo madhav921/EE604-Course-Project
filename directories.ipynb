{
 "cells": [
  {
   "cell_type": "code",
   "execution_count": 1,
   "id": "9b438908",
   "metadata": {},
   "outputs": [
    {
     "name": "stdout",
     "output_type": "stream",
     "text": [
      "Init Plugin\n",
      "Init Graph Optimizer\n",
      "Init Kernel\n"
     ]
    }
   ],
   "source": [
    "from tensorflow.keras.layers import Input, Lambda, Dense, Flatten\n",
    "from tensorflow.keras.models import Model\n",
    "from tensorflow.keras.applications.inception_v3 import InceptionV3\n",
    "# from tensorflow.keras.applications.resnet50 import ResNet50\n",
    "#from keras.applications.vgg16 import VGG16\n",
    "from tensorflow.keras.applications.inception_v3 import preprocess_input\n",
    "from tensorflow.keras.preprocessing import image\n",
    "from tensorflow.keras.preprocessing.image import ImageDataGenerator,load_img\n",
    "from tensorflow.keras.models import Sequential\n",
    "import numpy as np\n",
    "from glob import glob\n",
    "import matplotlib.pyplot as plt\n",
    "import os, cv2\n",
    "from tensorflow import keras\n",
    "from tensorflow.keras import layers\n",
    "import numpy as np\n",
    "from numpy import asarray\n",
    "import matplotlib.pyplot as plt\n",
    "import pandas as pd\n",
    "from PIL import Image\n",
    "import tensorflow as tf"
   ]
  },
  {
   "cell_type": "code",
   "execution_count": null,
   "id": "ab9b7bf7",
   "metadata": {},
   "outputs": [],
   "source": [
    "for i in range(14000):\n",
    "    old_name = r\"/Users/sanidhyasingh/Desktop/gangajal/datathonindoml-2022/train/\"+str(i)+\" copy.tif\"\n",
    "    new_name = r\"/Users/sanidhyasingh/Desktop/gangajal/datathonindoml-2022/train/\"+str(14000+i)+\".tif\"\n",
    "\n",
    "    os.rename(old_name, new_name)"
   ]
  },
  {
   "cell_type": "code",
   "execution_count": null,
   "id": "ef36b5a9",
   "metadata": {},
   "outputs": [],
   "source": [
    "df = pd.read_csv('/Users/sanidhyasingh/Desktop/gangajal/datathonindoml-2022/train_labels.csv', names=['Filename','Class'])\n",
    "labels = df.sort_values('Class')\n",
    "class_names = list(labels.Class.unique())\n",
    "class_names = np.array(class_names)\n",
    "class_names = class_names.astype(str)\n",
    "print(class_names)\n",
    "df.head(5)"
   ]
  },
  {
   "cell_type": "code",
   "execution_count": null,
   "id": "cc16994e",
   "metadata": {},
   "outputs": [],
   "source": [
    "for i in class_names:\n",
    "    os.makedirs(os.path.join('/Users/sanidhyasingh/Desktop/gangajal/datathonindoml-2022/train',i))"
   ]
  },
  {
   "cell_type": "code",
   "execution_count": null,
   "id": "11eb0bb8",
   "metadata": {},
   "outputs": [],
   "source": [
    "for i in class_names: \n",
    "    for c in list(df[df['Class']== int(i)]['Filename']): \n",
    "        get_image = os.path.join('/Users/sanidhyasingh/Desktop/gangajal/datathonindoml-2022/train', str(c)+ '.tif')\n",
    "        if not os.path.exists('/Users/sanidhyasingh/Desktop/gangajal/datathonindoml-2022/train'+ str(c) + i):\n",
    "            move_image = shutil.copy(get_image,'/Users/sanidhyasingh/Desktop/gangajal/datathonindoml-2022/train/'+ i)\n",
    "            "
   ]
  },
  {
   "cell_type": "code",
   "execution_count": null,
   "id": "b0aed9c5",
   "metadata": {},
   "outputs": [],
   "source": [
    "df1 = pd.read_csv('/Users/sanidhyasingh/Desktop/gangajal/datathonindoml-2022/validation_labels.csv', names=['Filename','Class'])\n",
    "labels1 = df1.sort_values('Class')\n",
    "class_names1 = list(labels.Class.unique())\n",
    "class_names1 = np.array(class_names1)\n",
    "class_names1 = class_names1.astype(str)\n",
    "print(class_names1)\n",
    "df1.head(5)\n",
    "\n"
   ]
  },
  {
   "cell_type": "code",
   "execution_count": null,
   "id": "dbef1de1",
   "metadata": {},
   "outputs": [],
   "source": [
    "for i in class_names1:\n",
    "    os.makedirs(os.path.join('/Users/sanidhyasingh/Desktop/gangajal/datathonindoml-2022/validation',i))"
   ]
  },
  {
   "cell_type": "code",
   "execution_count": null,
   "id": "7748a8e5",
   "metadata": {},
   "outputs": [],
   "source": [
    "for i in class_names1: \n",
    "    for c in list(df1[df1['Class']== int(i)]['Filename']): \n",
    "        get_image = os.path.join('/Users/sanidhyasingh/Desktop/gangajal/datathonindoml-2022/validation', str(c)+ '.tif')\n",
    "        if not os.path.exists('/Users/sanidhyasingh/Desktop/gangajal/datathonindoml-2022/validation'+ str(c) + i):\n",
    "             move_image = shutil.copy(get_image,'/Users/sanidhyasingh/Desktop/gangajal/datathonindoml-2022/validation/'+ i)\n",
    "                "
   ]
  }
 ],
 "metadata": {
  "kernelspec": {
   "display_name": "Python 3.9 (tensorflow)",
   "language": "python",
   "name": "tensorflow"
  },
  "language_info": {
   "codemirror_mode": {
    "name": "ipython",
    "version": 3
   },
   "file_extension": ".py",
   "mimetype": "text/x-python",
   "name": "python",
   "nbconvert_exporter": "python",
   "pygments_lexer": "ipython3",
   "version": "3.9.13"
  }
 },
 "nbformat": 4,
 "nbformat_minor": 5
}
